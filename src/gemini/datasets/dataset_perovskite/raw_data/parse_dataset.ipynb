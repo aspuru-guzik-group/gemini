{
 "cells": [
  {
   "cell_type": "code",
   "execution_count": 32,
   "metadata": {},
   "outputs": [],
   "source": [
    "import numpy as np\n",
    "import pandas as pd\n",
    "import matplotlib.pyplot as plt\n",
    "import seaborn as sns; sns.set(style='whitegrid')\n",
    "import pickle\n",
    "import json\n",
    "\n",
    "from scipy.stats import pearsonr, spearmanr"
   ]
  },
  {
   "cell_type": "markdown",
   "metadata": {},
   "source": [
    "## Meta\n",
    "\n",
    "### Feature relavence analysis taken from Gryffin paper: https://arxiv.org/pdf/2003.12127.pdf\n",
    "\n",
    "*cations*:  electron_affinity, ionization energy, mass, electronegativity\n",
    "\n",
    "*anions*:   electron_affinity, ionization energy, mass, electronegativity\n",
    "\n",
    "*organics*: homo, lumo, dipole, atomization, r_gyr, total_mass\n",
    "\n",
    "### Evaluators of the bandgap\n",
    "\n",
    "*cheap evaluator*: GGA level of DFT (`bandgap_gga`)\n",
    "\n",
    "*exp evaluator*:   HSE06 level of DFT (`bandgap_hse06`)\n",
    "\n",
    "### Gemini dataset format\n",
    "`{'fast_features': [...], 'slow_features': [...],\n",
    "  'fast_targets': [...], 'slow_targets': [...]}`\n"
   ]
  },
  {
   "cell_type": "code",
   "execution_count": 2,
   "metadata": {},
   "outputs": [],
   "source": [
    "# load in the features for the individual categorical variables\n",
    "with open('cations.json', 'r') as content:\n",
    "    CATIONS = json.load(content)\n",
    "with open('anions.json', 'r') as content:\n",
    "    ANIONS = json.load(content)\n",
    "with open('organics.json', 'r') as content:\n",
    "    ORGANICS = json.load(content)"
   ]
  },
  {
   "cell_type": "code",
   "execution_count": 3,
   "metadata": {},
   "outputs": [
    {
     "data": {
      "text/plain": [
       "array([-0.49721  , -0.224    ,  1.3334   , -1.7259337,  1.3441486,\n",
       "       59.092    ], dtype=float32)"
      ]
     },
     "execution_count": 3,
     "metadata": {},
     "output_type": "execute_result"
    }
   ],
   "source": [
    "np.fromiter(ORGANICS['acetamidinium'].values(), dtype=np.float32)"
   ]
  },
  {
   "cell_type": "code",
   "execution_count": 4,
   "metadata": {},
   "outputs": [
    {
     "data": {
      "text/plain": [
       "['0098',\n",
       " '0099',\n",
       " '0100',\n",
       " '0101',\n",
       " '0102',\n",
       " '0103',\n",
       " '0104',\n",
       " '0105',\n",
       " '0106',\n",
       " '0107']"
      ]
     },
     "execution_count": 4,
     "metadata": {},
     "output_type": "execute_result"
    }
   ],
   "source": [
    "TAB = pickle.load(open('lookup_table.pkl', 'rb'))\n",
    "# tab[organic_anion][cation][anion]\n",
    "TAB['Ethylammonium']['Ge']['Cl']['hoip_id']\n",
    "#TAB['Ethylammonium']['Ge']['']['bandgap_gga']"
   ]
  },
  {
   "cell_type": "code",
   "execution_count": 5,
   "metadata": {},
   "outputs": [],
   "source": [
    "def get_data_point(organic, cation, anion):\n",
    "    ''' organic, cation, anion are the names or the element symbols\n",
    "    '''\n",
    "    # get features\n",
    "    organic_feat = np.fromiter(ORGANICS[organic].values(), dtype=np.float32)\n",
    "    anion_feat   = np.fromiter(ANIONS[anion].values(), dtype=np.float32)\n",
    "    cation_feat  = np.fromiter(CATIONS[cation].values(), dtype=np.float32)\n",
    "\n",
    "    feat = np.concatenate((organic_feat, anion_feat, cation_feat), axis=0)\n",
    "\n",
    "    \n",
    "    # TODO --> what type of reduction operation do I need to do here?? \n",
    "    # get slow target (in eV)\n",
    "    slow_target = np.amin(TAB[organic.capitalize()][cation][anion]['bandgap_hse06'])\n",
    "    \n",
    "    # get fast target (in eV)\n",
    "    fast_target = np.amin(TAB[organic.capitalize()][cation][anion]['bandgap_gga'])\n",
    "    \n",
    "    return feat, fast_target, slow_target\n",
    "    "
   ]
  },
  {
   "cell_type": "markdown",
   "metadata": {},
   "source": [
    "## construct dataframe of measurements"
   ]
  },
  {
   "cell_type": "code",
   "execution_count": 6,
   "metadata": {},
   "outputs": [],
   "source": [
    "feat, fast_target, slow_target = get_data_point('ethylammonium', 'Ge', 'F')"
   ]
  },
  {
   "cell_type": "code",
   "execution_count": 7,
   "metadata": {},
   "outputs": [
    {
     "data": {
      "text/plain": [
       "(array([-0.5464   , -0.20326  ,  3.8078   , -1.5113653,  1.2430034,\n",
       "        46.093    ,  3.401189 , 17.42282  , 18.998    ,  4.       ,\n",
       "         1.232676 ,  7.8994   , 72.63     ,  1.8      ], dtype=float32),\n",
       " 4.1048,\n",
       " 5.3704)"
      ]
     },
     "execution_count": 7,
     "metadata": {},
     "output_type": "execute_result"
    }
   ],
   "source": [
    "feat, fast_target, slow_target"
   ]
  },
  {
   "cell_type": "code",
   "execution_count": 8,
   "metadata": {},
   "outputs": [],
   "source": [
    "organics = ['ethylammonium', 'propylammonium', 'butylammonium', 'isopropylammonium', \n",
    "            'dimethylammonium', 'acetamidinium', 'methylammonium', 'guanidinium', \n",
    "            'hydroxylammonium', 'formamidinium', 'tetramethylammonium', 'hydrazinium',\n",
    "            'ammonium', 'trimethylammonium', 'azetidinium', 'imidazolium']\n",
    "cations  = ['Ge', 'Sn', 'Pb']\n",
    "anions   = ['F', 'Cl', 'Br', 'I']"
   ]
  },
  {
   "cell_type": "code",
   "execution_count": 9,
   "metadata": {},
   "outputs": [],
   "source": [
    "dataset = {'fast_features': [], 'slow_features': [], \n",
    "           'fast_targets': [], 'slow_targets': []}\n",
    "\n",
    "for o_ix, organic in enumerate(organics):\n",
    "    for c_ix, cation in enumerate(cations):\n",
    "        for a_ix, anion in enumerate(anions):\n",
    "            feat, fast_target, slow_target = get_data_point(organic, cation, anion)\n",
    "            dataset['fast_features'].append(feat)\n",
    "            dataset['slow_features'].append(feat)\n",
    "            dataset['fast_targets'].append(fast_target)\n",
    "            dataset['slow_targets'].append(slow_target)\n",
    "            "
   ]
  },
  {
   "cell_type": "code",
   "execution_count": 10,
   "metadata": {},
   "outputs": [],
   "source": [
    "dataset['fast_features'] = np.array(dataset['fast_features'])\n",
    "dataset['slow_features'] = np.array(dataset['slow_features'])\n",
    "dataset['fast_targets'] = np.array(dataset['fast_targets'])\n",
    "dataset['slow_targets'] = np.array(dataset['slow_targets'])"
   ]
  },
  {
   "cell_type": "code",
   "execution_count": 33,
   "metadata": {},
   "outputs": [
    {
     "name": "stdout",
     "output_type": "stream",
     "text": [
      "0.9951767001075629 0.9930901183860837\n"
     ]
    },
    {
     "data": {
      "image/png": "[encoded data removed]",
      "text/plain": [
       "<Figure size 360x360 with 1 Axes>"
      ]
     },
     "metadata": {},
     "output_type": "display_data"
    }
   ],
   "source": [
    "fig=plt.figure(figsize=(5, 5))\n",
    "\n",
    "pear  = pearsonr(dataset['slow_targets'], dataset['fast_targets'])[0]\n",
    "spear = spearmanr(dataset['slow_targets'], dataset['fast_targets'])[0]\n",
    "\n",
    "print(pear, spear)\n",
    "\n",
    "sns.scatterplot(dataset['slow_targets'], dataset['fast_targets'],\n",
    "                s=60, alpha=0.8)\n",
    "plt.plot([1.0, 6.5], [1.0, 6.5], c='k', ls='--', alpha=0.7)\n",
    "plt.xlabel(r'$E_g^{HSE06} [eV]$', fontsize=15)\n",
    "plt.ylabel(r'$E_g^{GGA} [eV]$', fontsize=15)\n",
    "\n",
    "plt.tick_params(labelsize=15)\n",
    "plt.tight_layout()\n",
    "plt.savefig('perovskite_agreement.png', dpi=300)\n"
   ]
  },
  {
   "cell_type": "code",
   "execution_count": null,
   "metadata": {
    "collapsed": true
   },
   "outputs": [],
   "source": []
  }
 ],
 "metadata": {
  "kernelspec": {
   "display_name": "base",
   "language": "python",
   "name": "base"
  },
  "language_info": {
   "codemirror_mode": {
    "name": "ipython",
    "version": 3
   },
   "file_extension": ".py",
   "mimetype": "text/x-python",
   "name": "python",
   "nbconvert_exporter": "python",
   "pygments_lexer": "ipython3",
   "version": "3.7.6"
  }
 },
 "nbformat": 4,
 "nbformat_minor": 4
}
